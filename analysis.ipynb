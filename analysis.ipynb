{
 "cells": [
  {
   "cell_type": "code",
   "execution_count": 20,
   "metadata": {},
   "outputs": [],
   "source": [
    "import warnings\n",
    "warnings.filterwarnings(\"ignore\")"
   ]
  },
  {
   "cell_type": "code",
   "execution_count": 21,
   "metadata": {},
   "outputs": [],
   "source": [
    "import pandas as pd\n",
    "import numpy as np\n",
    "from imblearn.under_sampling import RandomUnderSampler\n",
    "from sklearn.ensemble import RandomForestClassifier\n",
    "from sklearn.model_selection import train_test_split\n",
    "from sklearn import metrics\n",
    "from sklearn.pipeline import make_pipeline\n",
    "from sklearn.preprocessing import StandardScaler, PowerTransformer\n",
    "from sklearn.model_selection import cross_val_score\n",
    "import matplotlib.pyplot as plt\n",
    "import seaborn as sns"
   ]
  },
  {
   "cell_type": "code",
   "execution_count": 22,
   "metadata": {},
   "outputs": [],
   "source": [
    "root = \"\"\n",
    "data_root = \"transfer_logs/\"\n",
    "sns.set()"
   ]
  },
  {
   "cell_type": "code",
   "execution_count": 43,
   "metadata": {},
   "outputs": [],
   "source": [
    "\"\"\"\n",
    "Expanse >>  From TACC to SDSC (rtt: 58ms)\n",
    "Chameleon >>  From TACC to UC (rtt: 32ms)\n",
    "Labels \n",
    "Code <> Name\n",
    "1    <> Normal\n",
    "2    <> Duplicate\n",
    "3    <> Reorder\n",
    "4    <> Corrupt\n",
    "5    <> Loss\n",
    "6    <> Jitter\n",
    "\"\"\"\n",
    "\n",
    "bws = {\n",
    "    \"expanse\": [1000],\n",
    "    \"chameleon\": [1000],\n",
    "}\n",
    "\n",
    "\n",
    "rtts = {\n",
    "    \"expanse\": [60],\n",
    "    \"chameleon\": [35],\n",
    "}\n",
    "\n",
    "cc_algos = [\"cubic\", \"htcp\", \"bbr\"]\n",
    "feature_file = root+\"ss_7_features.csv\"\n",
    "labels = [1,2,3,4,5,6]\n",
    "\n",
    "features = pd.read_csv(feature_file)\n",
    "feature_list = list(features.feature.values)"
   ]
  },
  {
   "cell_type": "code",
   "execution_count": 24,
   "metadata": {},
   "outputs": [],
   "source": [
    "def read_file(env, transform=True):\n",
    "    global data\n",
    "    \n",
    "    for cc_algo in cc_algos:      \n",
    "        folder = \"{0}/sslog_ps/{1}/\".format(env, cc_algo)\n",
    "\n",
    "        for bw in bws[env]:\n",
    "            for rtt in rtts[env]:\n",
    "                combo = \"b{0}d{1}\".format(bw,rtt)\n",
    "                df = pd.read_csv(data_root+\"{0}/{1}.csv\".format(folder, combo))\n",
    "                df = df.sort_values(by=['label']).reset_index().drop(columns=[\"index\"])\n",
    "                df = df[df.label.isin(labels)] \n",
    "                df.fillna(df.groupby(['label'], as_index=False).mean(), inplace=True)\n",
    "    \n",
    "                if transform:\n",
    "                    for index, row in features.iterrows():\n",
    "#                         if \"rtt\" in row['normalizer']:\n",
    "#                             df[row['feature']] = df[row['feature']] / rtt\n",
    "\n",
    "#                         else:\n",
    "                        df[row['feature']] = df[row['feature']] / df[row['normalizer']]\n",
    "\n",
    "                df.replace([np.inf, -np.inf, np.nan], 0, inplace=True)\n",
    "                if cc_algo not in data[env]:\n",
    "                    data[env][cc_algo] = {}\n",
    "                \n",
    "                data[env][cc_algo][combo] = df"
   ]
  },
  {
   "cell_type": "code",
   "execution_count": 25,
   "metadata": {},
   "outputs": [],
   "source": [
    "def feature_score(env, transform=True, size=0.8):\n",
    "    clfs = []\n",
    "    read_file(env, transform)\n",
    "    for cc_algo in cc_algos:\n",
    "        print(\"CC Algorithms: {0}\".format(cc_algo))\n",
    "        results = []\n",
    "        score = {}\n",
    "        for bw in bws[env]:\n",
    "            for rtt in rtts[env]:\n",
    "                combo = \"b{0}d{1}\".format(bw,rtt)\n",
    "                df = data[env][cc_algo][combo].copy()\n",
    "                df = df[df.report_sec == 10]\n",
    "                y = df.label\n",
    "                X = df[feature_list]#.drop(columns=\"label\") # \n",
    "                X_train, X_test, y_train, y_test = train_test_split(X,y, train_size=size)\n",
    "                X_train, y_train = RandomUnderSampler(sampling_strategy=\"all\").fit_resample(X_train, y_train)\n",
    "#                 clf = make_pipeline(PowerTransformer(), RandomForestClassifier(n_estimators=100))\n",
    "                clf = RandomForestClassifier(n_estimators=100)\n",
    "                clf.fit(X_train, y_train)\n",
    "                clfs.append(clf)\n",
    "                y_pred = clf.predict(X_test)\n",
    "                accuracy = np.round(metrics.accuracy_score(y_test, y_pred) * 100, 2)\n",
    "                f1_score = np.round(metrics.f1_score(y_test, y_pred, average='micro')* 100,2)\n",
    "                results.append(f1_score)\n",
    "#                 print(metrics.confusion_matrix(y_test, y_pred))\n",
    "                imp = np.round(clf.feature_importances_,2)\n",
    "                columns = X.columns\n",
    "\n",
    "                for i in range(len(columns)):\n",
    "                    score[columns[i]] = [imp[i]]\n",
    "\n",
    "        print(\"Sample Size: {0}, Average: {1}, Stdv: {2}\".format(size, np.round(np.mean(results), 2),\n",
    "                                                                 np.round(np.std(results), 2)))\n",
    "        print(\"Importance Score:\")\n",
    "        for key in score:\n",
    "            print(\"\\t{0}: {1}\".format(key, np.round(np.mean(score[key]), 2)))\n",
    "        print()\n",
    "#     return clfs"
   ]
  },
  {
   "cell_type": "code",
   "execution_count": 26,
   "metadata": {},
   "outputs": [],
   "source": [
    "def tl_evaluate(env1, env2, t_limit=10, verbose=True, file=None):\n",
    "    for cc_algo in cc_algos:\n",
    "        print(\"CC Algorithms: {0}\".format(cc_algo))\n",
    "        total = []\n",
    "        for bw in bws[env1]:\n",
    "            for rtt in rtts[env1]:\n",
    "                train = \"b{0}d{1}\".format(bw,rtt)\n",
    "                df = data[env1][cc_algo][train].copy()\n",
    "                df = df[df.report_sec == 10]\n",
    "                y = df.label\n",
    "                X = df[feature_list]\n",
    "                clf = make_pipeline(PowerTransformer(), RandomForestClassifier(n_estimators=100))\n",
    "                clf.fit(X, y)\n",
    "                results = []\n",
    "\n",
    "                for bw1 in bws[env2]:\n",
    "                    for rtt1 in rtts[env2]:\n",
    "                        combo = \"b{0}d{1}\".format(bw1,rtt1)\n",
    "                        if train == combo:\n",
    "                            continue\n",
    "\n",
    "                        if rtt1 != 0:\n",
    "                            df = data[env2][cc_algo][combo].copy()\n",
    "                            df = df[df.report_sec == t_limit]\n",
    "                            y = df.label\n",
    "                            X = df[feature_list]\n",
    "                            y_pred = clf.predict(X)\n",
    "                            accuracy = np.round(metrics.accuracy_score(y, y_pred)* 100,2)\n",
    "                            f_score = np.round(metrics.f1_score(y, y_pred, average='micro')* 100,2)\n",
    "                            precision = np.round(metrics.precision_score(y, y_pred, average='weighted')* 100,2)\n",
    "                            recall = np.round(metrics.recall_score(y, y_pred, average='weighted')* 100,2) \n",
    "\n",
    "                            results.append(f_score)\n",
    "                            total.append(results[-1])\n",
    "                            if file is not None:\n",
    "                                msg = \"{0},{1},{2},{3},{4},{5},{6}\\n\".format(env1,env2,train,combo,cc_algo,\n",
    "                                                                                 t_limit,f_score)\n",
    "                                file.write(msg)\n",
    "                                \n",
    "#                             print(\"{0},{1},{2},{3},{4},{5}\".format(train, combo, accuracy, f_score, precision, recall))\n",
    "                \n",
    "                if verbose:\n",
    "                    print(train, np.round(np.mean(results), 2), np.round(np.std(results), 2), results)\n",
    "                \n",
    "\n",
    "        print(\"\\tAverage:{0}\\n\\tStd Dev: {1}\\n\".format(np.round(np.mean(total), 2), np.round(np.std(total), 2)))"
   ]
  },
  {
   "cell_type": "markdown",
   "metadata": {},
   "source": [
    "# Before Transformation Applied"
   ]
  },
  {
   "cell_type": "code",
   "execution_count": 44,
   "metadata": {},
   "outputs": [],
   "source": [
    "data = {\n",
    "    \"chameleon\": {},\n",
    "    \"expanse\": {}\n",
    "}"
   ]
  },
  {
   "cell_type": "markdown",
   "metadata": {},
   "source": [
    "### Chameleon"
   ]
  },
  {
   "cell_type": "code",
   "execution_count": 45,
   "metadata": {},
   "outputs": [
    {
     "name": "stdout",
     "output_type": "stream",
     "text": [
      "CC Algorithms: cubic\n",
      "Sample Size: 0.8, Average: 97.78, Stdv: 0.0\n",
      "Importance Score:\n",
      "\tminrtt: 0.18\n",
      "\trtt_std: 0.04\n",
      "\tunacked: 0.12\n",
      "\tssthresh: 0.15\n",
      "\tretrans: 0.15\n",
      "\tdsack_dups: 0.15\n",
      "\treord_seen: 0.19\n",
      "\tnotsent: 0.02\n",
      "\n",
      "CC Algorithms: htcp\n",
      "Sample Size: 0.8, Average: 98.52, Stdv: 0.0\n",
      "Importance Score:\n",
      "\tminrtt: 0.19\n",
      "\trtt_std: 0.05\n",
      "\tunacked: 0.17\n",
      "\tssthresh: 0.05\n",
      "\tretrans: 0.16\n",
      "\tdsack_dups: 0.16\n",
      "\treord_seen: 0.19\n",
      "\tnotsent: 0.04\n",
      "\n",
      "CC Algorithms: bbr\n",
      "Sample Size: 0.8, Average: 99.81, Stdv: 0.0\n",
      "Importance Score:\n",
      "\tminrtt: 0.18\n",
      "\trtt_std: 0.06\n",
      "\tunacked: 0.02\n",
      "\tssthresh: 0.14\n",
      "\tretrans: 0.19\n",
      "\tdsack_dups: 0.17\n",
      "\treord_seen: 0.23\n",
      "\tnotsent: 0.01\n",
      "\n"
     ]
    }
   ],
   "source": [
    "testbed = \"chameleon\"\n",
    "feature_score(testbed, transform=False)"
   ]
  },
  {
   "cell_type": "markdown",
   "metadata": {},
   "source": [
    "### Expanse"
   ]
  },
  {
   "cell_type": "code",
   "execution_count": 46,
   "metadata": {},
   "outputs": [
    {
     "name": "stdout",
     "output_type": "stream",
     "text": [
      "CC Algorithms: cubic\n",
      "Sample Size: 0.8, Average: 97.41, Stdv: 0.0\n",
      "Importance Score:\n",
      "\tminrtt: 0.2\n",
      "\trtt_std: 0.06\n",
      "\tunacked: 0.13\n",
      "\tssthresh: 0.06\n",
      "\tretrans: 0.13\n",
      "\tdsack_dups: 0.18\n",
      "\treord_seen: 0.21\n",
      "\tnotsent: 0.05\n",
      "\n",
      "CC Algorithms: htcp\n",
      "Sample Size: 0.8, Average: 94.81, Stdv: 0.0\n",
      "Importance Score:\n",
      "\tminrtt: 0.21\n",
      "\trtt_std: 0.05\n",
      "\tunacked: 0.12\n",
      "\tssthresh: 0.13\n",
      "\tretrans: 0.12\n",
      "\tdsack_dups: 0.12\n",
      "\treord_seen: 0.15\n",
      "\tnotsent: 0.09\n",
      "\n",
      "CC Algorithms: bbr\n",
      "Sample Size: 0.8, Average: 99.07, Stdv: 0.0\n",
      "Importance Score:\n",
      "\tminrtt: 0.21\n",
      "\trtt_std: 0.09\n",
      "\tunacked: 0.02\n",
      "\tssthresh: 0.1\n",
      "\tretrans: 0.21\n",
      "\tdsack_dups: 0.19\n",
      "\treord_seen: 0.18\n",
      "\tnotsent: 0.01\n",
      "\n"
     ]
    }
   ],
   "source": [
    "testbed = \"expanse\"\n",
    "feature_score(testbed, transform=False)"
   ]
  },
  {
   "cell_type": "markdown",
   "metadata": {},
   "source": [
    "## Same Network"
   ]
  },
  {
   "cell_type": "code",
   "execution_count": 47,
   "metadata": {},
   "outputs": [
    {
     "name": "stdout",
     "output_type": "stream",
     "text": [
      "expanse cubic\n",
      "\t b1000d60 [0.97 0.99 0.97 0.96 0.96 0.97 0.98 0.98 0.98 0.99]\n",
      "\t Average: 0.98, Std dev: 0.01\n",
      "expanse htcp\n",
      "\t b1000d60 [0.96 0.94 0.95 0.93 0.95 0.96 0.97 0.98 0.96 0.98]\n",
      "\t Average: 0.96, Std dev: 0.02\n",
      "expanse bbr\n",
      "\t b1000d60 [0.98 0.99 0.99 0.98 0.97 1.   0.99 1.   0.97 0.99]\n",
      "\t Average: 0.99, Std dev: 0.01\n",
      "chameleon cubic\n",
      "\t b1000d35 [0.97 0.98 0.99 0.96 0.96 0.99 0.97 0.99 0.98 0.98]\n",
      "\t Average: 0.98, Std dev: 0.01\n",
      "chameleon htcp\n",
      "\t b1000d35 [0.97 0.98 0.97 0.97 0.98 0.98 0.98 0.99 0.99 0.99]\n",
      "\t Average: 0.98, Std dev: 0.01\n",
      "chameleon bbr\n",
      "\t b1000d35 [0.99 1.   1.   0.99 0.98 1.   1.   1.   1.   1.  ]\n",
      "\t Average: 1.0, Std dev: 0.01\n"
     ]
    }
   ],
   "source": [
    "for env in bws:\n",
    "    for cc_algo in cc_algos:\n",
    "        print(env, cc_algo)\n",
    "        for bw in bws[env]:\n",
    "            for rtt in rtts[env]:\n",
    "                train = \"b{0}d{1}\".format(bw,rtt)\n",
    "                df = data[env][cc_algo][train].copy()\n",
    "                df = df[df.report_sec == 10]\n",
    "                y = df.label\n",
    "                X = df[feature_list]\n",
    "                clf = make_pipeline(PowerTransformer(), RandomForestClassifier(n_estimators=100))\n",
    "                cv_res = np.round(cross_val_score(clf, X, y, cv=10),2)\n",
    "                        \n",
    "                print(\"\\t\", train, cv_res)\n",
    "                print(\"\\t Average: {0}, Std dev: {1}\".format(np.round(np.mean(cv_res), 2),\n",
    "                                                            np.round(np.std(cv_res), 2)))\n",
    "                      "
   ]
  },
  {
   "cell_type": "markdown",
   "metadata": {},
   "source": [
    "## Transfer Learning "
   ]
  },
  {
   "cell_type": "markdown",
   "metadata": {},
   "source": [
    "### Expanse to Chameleon"
   ]
  },
  {
   "cell_type": "code",
   "execution_count": 48,
   "metadata": {},
   "outputs": [
    {
     "name": "stdout",
     "output_type": "stream",
     "text": [
      "Repeat: 1\n",
      "CC Algorithms: cubic\n",
      "b1000d60 34.27 0.0 [34.27]\n",
      "\tAverage:34.27\n",
      "\tStd Dev: 0.0\n",
      "\n",
      "CC Algorithms: htcp\n",
      "b1000d60 23.52 0.0 [23.52]\n",
      "\tAverage:23.52\n",
      "\tStd Dev: 0.0\n",
      "\n",
      "CC Algorithms: bbr\n",
      "b1000d60 62.07 0.0 [62.07]\n",
      "\tAverage:62.07\n",
      "\tStd Dev: 0.0\n",
      "\n",
      "Repeat: 2\n",
      "CC Algorithms: cubic\n",
      "b1000d60 31.94 0.0 [31.94]\n",
      "\tAverage:31.94\n",
      "\tStd Dev: 0.0\n",
      "\n",
      "CC Algorithms: htcp\n",
      "b1000d60 34.59 0.0 [34.59]\n",
      "\tAverage:34.59\n",
      "\tStd Dev: 0.0\n",
      "\n",
      "CC Algorithms: bbr\n",
      "b1000d60 61.19 0.0 [61.19]\n",
      "\tAverage:61.19\n",
      "\tStd Dev: 0.0\n",
      "\n"
     ]
    }
   ],
   "source": [
    "for i in range(2):\n",
    "    print(\"Repeat: {0}\".format(i+1))\n",
    "    tl_evaluate(\"expanse\", \"chameleon\")"
   ]
  },
  {
   "cell_type": "code",
   "execution_count": 49,
   "metadata": {},
   "outputs": [],
   "source": [
    "### Chameleon to Expanse"
   ]
  },
  {
   "cell_type": "code",
   "execution_count": 50,
   "metadata": {},
   "outputs": [
    {
     "name": "stdout",
     "output_type": "stream",
     "text": [
      "Repeat: 1\n",
      "CC Algorithms: cubic\n",
      "b1000d35 56.89 0.0 [56.89]\n",
      "\tAverage:56.89\n",
      "\tStd Dev: 0.0\n",
      "\n",
      "CC Algorithms: htcp\n",
      "b1000d35 68.63 0.0 [68.63]\n",
      "\tAverage:68.63\n",
      "\tStd Dev: 0.0\n",
      "\n",
      "CC Algorithms: bbr\n",
      "b1000d35 70.52 0.0 [70.52]\n",
      "\tAverage:70.52\n",
      "\tStd Dev: 0.0\n",
      "\n",
      "Repeat: 2\n",
      "CC Algorithms: cubic\n",
      "b1000d35 57.52 0.0 [57.52]\n",
      "\tAverage:57.52\n",
      "\tStd Dev: 0.0\n",
      "\n",
      "CC Algorithms: htcp\n",
      "b1000d35 63.15 0.0 [63.15]\n",
      "\tAverage:63.15\n",
      "\tStd Dev: 0.0\n",
      "\n",
      "CC Algorithms: bbr\n",
      "b1000d35 79.11 0.0 [79.11]\n",
      "\tAverage:79.11\n",
      "\tStd Dev: 0.0\n",
      "\n"
     ]
    }
   ],
   "source": [
    "for i in range(2):\n",
    "    print(\"Repeat: {0}\".format(i+1))\n",
    "    tl_evaluate(\"chameleon\", \"expanse\")"
   ]
  },
  {
   "cell_type": "markdown",
   "metadata": {},
   "source": [
    "# After Transformation Applied"
   ]
  },
  {
   "cell_type": "code",
   "execution_count": 58,
   "metadata": {},
   "outputs": [],
   "source": [
    "data = {\n",
    "    \"chameleon\": {},\n",
    "    \"expanse\": {}\n",
    "}"
   ]
  },
  {
   "cell_type": "markdown",
   "metadata": {},
   "source": [
    "### Chameleon"
   ]
  },
  {
   "cell_type": "code",
   "execution_count": 59,
   "metadata": {},
   "outputs": [
    {
     "name": "stdout",
     "output_type": "stream",
     "text": [
      "CC Algorithms: cubic\n",
      "Sample Size: 0.8, Average: 94.26, Stdv: 0.0\n",
      "Importance Score:\n",
      "\tminrtt: 0.19\n",
      "\trtt_std: 0.04\n",
      "\tunacked: 0.05\n",
      "\tssthresh: 0.1\n",
      "\tretrans: 0.15\n",
      "\tdsack_dups: 0.16\n",
      "\treord_seen: 0.2\n",
      "\tnotsent: 0.1\n",
      "\n",
      "CC Algorithms: htcp\n",
      "Sample Size: 0.8, Average: 94.63, Stdv: 0.0\n",
      "Importance Score:\n",
      "\tminrtt: 0.19\n",
      "\trtt_std: 0.04\n",
      "\tunacked: 0.04\n",
      "\tssthresh: 0.1\n",
      "\tretrans: 0.12\n",
      "\tdsack_dups: 0.17\n",
      "\treord_seen: 0.22\n",
      "\tnotsent: 0.12\n",
      "\n",
      "CC Algorithms: bbr\n",
      "Sample Size: 0.8, Average: 99.26, Stdv: 0.0\n",
      "Importance Score:\n",
      "\tminrtt: 0.21\n",
      "\trtt_std: 0.03\n",
      "\tunacked: 0.07\n",
      "\tssthresh: 0.14\n",
      "\tretrans: 0.18\n",
      "\tdsack_dups: 0.17\n",
      "\treord_seen: 0.19\n",
      "\tnotsent: 0.01\n",
      "\n"
     ]
    }
   ],
   "source": [
    "testbed = \"chameleon\"\n",
    "feature_score(testbed, transform=True)"
   ]
  },
  {
   "cell_type": "markdown",
   "metadata": {},
   "source": [
    "### Expanse"
   ]
  },
  {
   "cell_type": "code",
   "execution_count": 60,
   "metadata": {},
   "outputs": [
    {
     "name": "stdout",
     "output_type": "stream",
     "text": [
      "CC Algorithms: cubic\n",
      "Sample Size: 0.8, Average: 91.3, Stdv: 0.0\n",
      "Importance Score:\n",
      "\tminrtt: 0.17\n",
      "\trtt_std: 0.05\n",
      "\tunacked: 0.03\n",
      "\tssthresh: 0.05\n",
      "\tretrans: 0.15\n",
      "\tdsack_dups: 0.18\n",
      "\treord_seen: 0.24\n",
      "\tnotsent: 0.13\n",
      "\n",
      "CC Algorithms: htcp\n",
      "Sample Size: 0.8, Average: 93.15, Stdv: 0.0\n",
      "Importance Score:\n",
      "\tminrtt: 0.17\n",
      "\trtt_std: 0.04\n",
      "\tunacked: 0.07\n",
      "\tssthresh: 0.14\n",
      "\tretrans: 0.15\n",
      "\tdsack_dups: 0.11\n",
      "\treord_seen: 0.16\n",
      "\tnotsent: 0.16\n",
      "\n",
      "CC Algorithms: bbr\n",
      "Sample Size: 0.8, Average: 97.41, Stdv: 0.0\n",
      "Importance Score:\n",
      "\tminrtt: 0.2\n",
      "\trtt_std: 0.07\n",
      "\tunacked: 0.05\n",
      "\tssthresh: 0.08\n",
      "\tretrans: 0.2\n",
      "\tdsack_dups: 0.19\n",
      "\treord_seen: 0.19\n",
      "\tnotsent: 0.02\n",
      "\n"
     ]
    }
   ],
   "source": [
    "testbed = \"expanse\"\n",
    "feature_score(testbed, transform=True)"
   ]
  },
  {
   "cell_type": "markdown",
   "metadata": {},
   "source": [
    "### Same Network"
   ]
  },
  {
   "cell_type": "code",
   "execution_count": 62,
   "metadata": {},
   "outputs": [
    {
     "name": "stdout",
     "output_type": "stream",
     "text": [
      "expanse cubic\n",
      "\t b1000d60 [0.89 0.93 0.94 0.89 0.91 0.89 0.91 0.91 0.94 0.95]\n",
      "\t Average: 0.92, Std dev: 0.02\n",
      "expanse htcp\n",
      "\t b1000d60 [0.92 0.93 0.94 0.92 0.93 0.96 0.96 0.97 0.97 0.94]\n",
      "\t Average: 0.94, Std dev: 0.02\n",
      "expanse bbr\n",
      "\t b1000d60 [0.97 0.99 0.99 0.96 0.96 0.99 0.98 0.99 0.98 0.98]\n",
      "\t Average: 0.98, Std dev: 0.01\n",
      "chameleon cubic\n",
      "\t b1000d35 [0.93 0.93 0.96 0.94 0.91 0.95 0.96 0.94 0.95 0.94]\n",
      "\t Average: 0.94, Std dev: 0.01\n",
      "chameleon htcp\n",
      "\t b1000d35 [0.91 0.94 0.92 0.94 0.94 0.95 0.94 0.94 0.93 0.94]\n",
      "\t Average: 0.94, Std dev: 0.01\n",
      "chameleon bbr\n",
      "\t b1000d35 [0.99 1.   1.   0.98 0.97 0.99 1.   1.   0.99 0.99]\n",
      "\t Average: 0.99, Std dev: 0.01\n"
     ]
    }
   ],
   "source": [
    "for env in bws:\n",
    "    for cc_algo in cc_algos:\n",
    "        print(env, cc_algo)\n",
    "        for bw in bws[env]:\n",
    "            for rtt in rtts[env]:\n",
    "                train = \"b{0}d{1}\".format(bw,rtt)\n",
    "                df = data[env][cc_algo][train].copy()\n",
    "                df = df[df.report_sec == 10]\n",
    "                y = df.label\n",
    "                X = df[feature_list]\n",
    "                clf = make_pipeline(PowerTransformer(), RandomForestClassifier(n_estimators=100))\n",
    "                cv_res = np.round(cross_val_score(clf, X, y, cv=10),2)\n",
    "                        \n",
    "                print(\"\\t\", train, cv_res)\n",
    "                print(\"\\t Average: {0}, Std dev: {1}\".format(np.round(np.mean(cv_res), 2),\n",
    "                                                            np.round(np.std(cv_res), 2)))\n",
    "                      "
   ]
  },
  {
   "cell_type": "markdown",
   "metadata": {},
   "source": [
    "### Chameleon to Expanse"
   ]
  },
  {
   "cell_type": "code",
   "execution_count": 63,
   "metadata": {},
   "outputs": [
    {
     "name": "stdout",
     "output_type": "stream",
     "text": [
      "Repeat: 1\n",
      "CC Algorithms: cubic\n",
      "b1000d35 82.59 0.0 [82.59]\n",
      "\tAverage:82.59\n",
      "\tStd Dev: 0.0\n",
      "\n",
      "CC Algorithms: htcp\n",
      "b1000d35 86.19 0.0 [86.19]\n",
      "\tAverage:86.19\n",
      "\tStd Dev: 0.0\n",
      "\n",
      "CC Algorithms: bbr\n",
      "b1000d35 94.33 0.0 [94.33]\n",
      "\tAverage:94.33\n",
      "\tStd Dev: 0.0\n",
      "\n",
      "Repeat: 2\n",
      "CC Algorithms: cubic\n",
      "b1000d35 82.7 0.0 [82.7]\n",
      "\tAverage:82.7\n",
      "\tStd Dev: 0.0\n",
      "\n",
      "CC Algorithms: htcp\n",
      "b1000d35 86.07 0.0 [86.07]\n",
      "\tAverage:86.07\n",
      "\tStd Dev: 0.0\n",
      "\n",
      "CC Algorithms: bbr\n",
      "b1000d35 94.48 0.0 [94.48]\n",
      "\tAverage:94.48\n",
      "\tStd Dev: 0.0\n",
      "\n"
     ]
    }
   ],
   "source": [
    "for i in range(2):\n",
    "    print(\"Repeat: {0}\".format(i+1))\n",
    "    tl_evaluate(\"chameleon\", \"expanse\")"
   ]
  },
  {
   "cell_type": "markdown",
   "metadata": {},
   "source": [
    "### Expanse to Chameleon"
   ]
  },
  {
   "cell_type": "code",
   "execution_count": 65,
   "metadata": {},
   "outputs": [
    {
     "name": "stdout",
     "output_type": "stream",
     "text": [
      "Repeat: 1\n",
      "CC Algorithms: cubic\n",
      "b1000d60 81.62 0.0 [81.62]\n",
      "\tAverage:81.62\n",
      "\tStd Dev: 0.0\n",
      "\n",
      "CC Algorithms: htcp\n",
      "b1000d60 76.52 0.0 [76.52]\n",
      "\tAverage:76.52\n",
      "\tStd Dev: 0.0\n",
      "\n",
      "CC Algorithms: bbr\n",
      "b1000d60 96.85 0.0 [96.85]\n",
      "\tAverage:96.85\n",
      "\tStd Dev: 0.0\n",
      "\n",
      "Repeat: 2\n",
      "CC Algorithms: cubic\n",
      "b1000d60 79.66 0.0 [79.66]\n",
      "\tAverage:79.66\n",
      "\tStd Dev: 0.0\n",
      "\n",
      "CC Algorithms: htcp\n",
      "b1000d60 83.67 0.0 [83.67]\n",
      "\tAverage:83.67\n",
      "\tStd Dev: 0.0\n",
      "\n",
      "CC Algorithms: bbr\n",
      "b1000d60 96.85 0.0 [96.85]\n",
      "\tAverage:96.85\n",
      "\tStd Dev: 0.0\n",
      "\n"
     ]
    }
   ],
   "source": [
    "for i in range(2):\n",
    "    print(\"Repeat: {0}\".format(i+1))\n",
    "    tl_evaluate(\"expanse\", \"chameleon\")"
   ]
  },
  {
   "cell_type": "markdown",
   "metadata": {},
   "source": [
    "## Why BBR data performs better than Cubic and HTCP?\n",
    "        Less ovelapping features values between Corrupt and Loss anomalies.\n",
    "        For example, here is a plot for packet retransmission rate"
   ]
  },
  {
   "cell_type": "code",
   "execution_count": 18,
   "metadata": {},
   "outputs": [
    {
     "data": {
      "image/png": "[encoded data removed]",
      "text/plain": [
       "<Figure size 1152x576 with 3 Axes>"
      ]
     },
     "metadata": {},
     "output_type": "display_data"
    }
   ],
   "source": [
    "network, testbed = \"expanse\", \"b1000d60\"\n",
    "fig, axes = plt.subplots(1, 3, sharex=True, figsize=(16,8))\n",
    "axes[0].set_title('Cubic', fontsize=42, pad=20)\n",
    "axes[1].set_title('HTCP', fontsize=42, pad=20)\n",
    "axes[2].set_title('BBR', fontsize=42, pad=20)\n",
    "\n",
    "df = data[network][\"cubic\"][testbed].copy()\n",
    "df = df[(df.report_sec==10) & (df.label.isin([4,5]))]\n",
    "df.loc[:, \"label\"] = df.label.replace({\n",
    "    4: \"Corrupt\",\n",
    "    5: \"Loss\"\n",
    "})\n",
    "\n",
    "sns.boxplot(ax=axes[0], x=\"label\", y=\"retrans\", data=df)\n",
    "\n",
    "\n",
    "df = data[network][\"htcp\"][testbed].copy()\n",
    "df = df[(df.report_sec==10) & (df.label.isin([4,5]))]\n",
    "# df.retrans = np.round(df.retrans, 3)\n",
    "df.loc[:, \"label\"]  = df.label.replace({\n",
    "    4: \"Corrupt\",\n",
    "    5: \"Loss\"\n",
    "})\n",
    "\n",
    "sns.boxplot(ax=axes[1], x=\"label\", y=\"retrans\", data=df)\n",
    "\n",
    "\n",
    "df = data[network][\"bbr\"][testbed].copy()\n",
    "df = df[(df.report_sec==10) & (df.label.isin([4,5]))]\n",
    "# df.retrans = np.round(df.retrans, 3)\n",
    "df.loc[:, \"label\"]  = df.label.replace({\n",
    "    4: \"Corrupt\",\n",
    "    5: \"Loss\"\n",
    "})\n",
    "\n",
    "sns.boxplot(ax=axes[2], x=\"label\", y=\"retrans\", data=df)\n",
    "\n",
    "for i in range(len(axes)):\n",
    "    axes[i].set_ylabel(\"retrans\", fontsize=45, labelpad=12);\n",
    "    axes[i].set_xlabel(\"\", fontsize=40, labelpad=12)\n",
    "    axes[i].tick_params(axis='both', which='major', pad=12)\n",
    "    axes[i].tick_params(axis='y', which='major', labelsize=40)\n",
    "    axes[i].tick_params(axis='x', which='major', labelsize=40, rotation=60)\n",
    "    axes[i].set_yticks([0.00, 0.005, 0.010, 0.015])\n",
    "    \n",
    "plt.tight_layout(pad=4)\n",
    "plt.show()"
   ]
  },
  {
   "cell_type": "code",
   "execution_count": null,
   "metadata": {},
   "outputs": [],
   "source": []
  }
 ],
 "metadata": {
  "kernelspec": {
   "display_name": "Python 3",
   "language": "python",
   "name": "python3"
  },
  "language_info": {
   "codemirror_mode": {
    "name": "ipython",
    "version": 3
   },
   "file_extension": ".py",
   "mimetype": "text/x-python",
   "name": "python",
   "nbconvert_exporter": "python",
   "pygments_lexer": "ipython3",
   "version": "3.8.5"
  }
 },
 "nbformat": 4,
 "nbformat_minor": 4
}
